{
 "cells": [
  {
   "cell_type": "code",
   "execution_count": 1,
   "metadata": {},
   "outputs": [],
   "source": [
    "callin_data_path = r'D:\\yyfang\\201206_calls_statics\\data\\呼入量.xlsx'\n",
    "callin_data_path = callin_data_path.strip(\"‪u202a\")"
   ]
  },
  {
   "cell_type": "markdown",
   "metadata": {},
   "source": [
    "## 导入相关库"
   ]
  },
  {
   "cell_type": "code",
   "execution_count": 2,
   "metadata": {},
   "outputs": [],
   "source": [
    "import numpy as np\n",
    "import pandas as pd\n",
    "import time\n",
    "from matplotlib import pyplot as plt\n",
    "%matplotlib inline\n",
    "from pylab import *\n",
    "mpl.rcParams['font.sans-serif'] = ['SimHei']"
   ]
  },
  {
   "cell_type": "code",
   "execution_count": 3,
   "metadata": {},
   "outputs": [
    {
     "data": {
      "text/html": [
       "<div>\n",
       "<style scoped>\n",
       "    .dataframe tbody tr th:only-of-type {\n",
       "        vertical-align: middle;\n",
       "    }\n",
       "\n",
       "    .dataframe tbody tr th {\n",
       "        vertical-align: top;\n",
       "    }\n",
       "\n",
       "    .dataframe thead th {\n",
       "        text-align: right;\n",
       "    }\n",
       "</style>\n",
       "<table border=\"1\" class=\"dataframe\">\n",
       "  <thead>\n",
       "    <tr style=\"text-align: right;\">\n",
       "      <th></th>\n",
       "      <th>呼叫时间</th>\n",
       "      <th>姓名</th>\n",
       "      <th>工号</th>\n",
       "      <th>省级分校</th>\n",
       "      <th>地市分校</th>\n",
       "      <th>座席编号</th>\n",
       "      <th>通话类型</th>\n",
       "      <th>通话ID</th>\n",
       "      <th>通话设备</th>\n",
       "      <th>主叫号码</th>\n",
       "      <th>被叫号码</th>\n",
       "      <th>响铃时长</th>\n",
       "      <th>通话状态</th>\n",
       "      <th>通话时长</th>\n",
       "      <th>满意度</th>\n",
       "    </tr>\n",
       "  </thead>\n",
       "  <tbody>\n",
       "    <tr>\n",
       "      <th>0</th>\n",
       "      <td>2020-11-30 22:25:51</td>\n",
       "      <td>洪娟</td>\n",
       "      <td>55827</td>\n",
       "      <td>招生营销部</td>\n",
       "      <td>招生营销部</td>\n",
       "      <td>8011875</td>\n",
       "      <td>呼入</td>\n",
       "      <td>47191753</td>\n",
       "      <td>固定电话</td>\n",
       "      <td>13688856338</td>\n",
       "      <td>01082533610-2831</td>\n",
       "      <td>2</td>\n",
       "      <td>接通</td>\n",
       "      <td>257</td>\n",
       "      <td>非常满意</td>\n",
       "    </tr>\n",
       "    <tr>\n",
       "      <th>1</th>\n",
       "      <td>2020-11-30 22:23:40</td>\n",
       "      <td>郭淑琦</td>\n",
       "      <td>56390</td>\n",
       "      <td>招生营销部</td>\n",
       "      <td>招生营销部</td>\n",
       "      <td>8011881</td>\n",
       "      <td>呼入</td>\n",
       "      <td>47073334</td>\n",
       "      <td>固定电话</td>\n",
       "      <td>18995608058</td>\n",
       "      <td>01082533754-2837</td>\n",
       "      <td>4</td>\n",
       "      <td>接通</td>\n",
       "      <td>61</td>\n",
       "      <td>非常满意</td>\n",
       "    </tr>\n",
       "    <tr>\n",
       "      <th>2</th>\n",
       "      <td>2020-11-30 22:11:53</td>\n",
       "      <td>洪娟</td>\n",
       "      <td>55827</td>\n",
       "      <td>招生营销部</td>\n",
       "      <td>招生营销部</td>\n",
       "      <td>8011875</td>\n",
       "      <td>呼入</td>\n",
       "      <td>47172546</td>\n",
       "      <td>固定电话</td>\n",
       "      <td>15185677697</td>\n",
       "      <td>01082533471-2831</td>\n",
       "      <td>2</td>\n",
       "      <td>接通</td>\n",
       "      <td>24</td>\n",
       "      <td>NaN</td>\n",
       "    </tr>\n",
       "    <tr>\n",
       "      <th>3</th>\n",
       "      <td>2020-11-30 22:11:50</td>\n",
       "      <td>郭淑琦</td>\n",
       "      <td>56390</td>\n",
       "      <td>招生营销部</td>\n",
       "      <td>招生营销部</td>\n",
       "      <td>8011881</td>\n",
       "      <td>呼入</td>\n",
       "      <td>47152554</td>\n",
       "      <td>固定电话</td>\n",
       "      <td>13572540825</td>\n",
       "      <td>01082533754-2837</td>\n",
       "      <td>5</td>\n",
       "      <td>接通</td>\n",
       "      <td>131</td>\n",
       "      <td>非常满意</td>\n",
       "    </tr>\n",
       "    <tr>\n",
       "      <th>4</th>\n",
       "      <td>2020-11-30 21:47:42</td>\n",
       "      <td>洪娟</td>\n",
       "      <td>55827</td>\n",
       "      <td>招生营销部</td>\n",
       "      <td>招生营销部</td>\n",
       "      <td>8011875</td>\n",
       "      <td>呼入</td>\n",
       "      <td>47053257</td>\n",
       "      <td>固定电话</td>\n",
       "      <td>18846904945</td>\n",
       "      <td>01082533610-2831</td>\n",
       "      <td>6</td>\n",
       "      <td>接通</td>\n",
       "      <td>137</td>\n",
       "      <td>NaN</td>\n",
       "    </tr>\n",
       "  </tbody>\n",
       "</table>\n",
       "</div>"
      ],
      "text/plain": [
       "                  呼叫时间   姓名     工号   省级分校   地市分校     座席编号 通话类型      通话ID  \\\n",
       "0  2020-11-30 22:25:51   洪娟  55827  招生营销部  招生营销部  8011875   呼入  47191753   \n",
       "1  2020-11-30 22:23:40  郭淑琦  56390  招生营销部  招生营销部  8011881   呼入  47073334   \n",
       "2  2020-11-30 22:11:53   洪娟  55827  招生营销部  招生营销部  8011875   呼入  47172546   \n",
       "3  2020-11-30 22:11:50  郭淑琦  56390  招生营销部  招生营销部  8011881   呼入  47152554   \n",
       "4  2020-11-30 21:47:42   洪娟  55827  招生营销部  招生营销部  8011875   呼入  47053257   \n",
       "\n",
       "   通话设备         主叫号码              被叫号码  响铃时长 通话状态  通话时长   满意度  \n",
       "0  固定电话  13688856338  01082533610-2831     2   接通   257  非常满意  \n",
       "1  固定电话  18995608058  01082533754-2837     4   接通    61  非常满意  \n",
       "2  固定电话  15185677697  01082533471-2831     2   接通    24   NaN  \n",
       "3  固定电话  13572540825  01082533754-2837     5   接通   131  非常满意  \n",
       "4  固定电话  18846904945  01082533610-2831     6   接通   137   NaN  "
      ]
     },
     "execution_count": 3,
     "metadata": {},
     "output_type": "execute_result"
    }
   ],
   "source": [
    "callin_data = pd.read_excel(callin_data_path);\n",
    "callin_data.head()"
   ]
  },
  {
   "cell_type": "markdown",
   "metadata": {},
   "source": [
    "## 统计呼叫时间"
   ]
  },
  {
   "cell_type": "code",
   "execution_count": 4,
   "metadata": {},
   "outputs": [],
   "source": [
    "def plot_frequency_data(frequency_data):\n",
    "    plt.figure()\n",
    "    plt.title(u'上班时间电话分布')\n",
    "    plt.xlabel(\"时段（小时）\")\n",
    "    plt.ylabel(\"呼入量\")\n",
    "    plt.bar(frequency_data.index, frequency_data, width=0.3)"
   ]
  },
  {
   "cell_type": "code",
   "execution_count": 5,
   "metadata": {},
   "outputs": [],
   "source": [
    "callin_data['hour'] = callin_data['呼叫时间'].apply(lambda x: time.strptime(x,'%Y-%m-%d %H:%M:%S').tm_hour*2+time.strptime(x,'%Y-%m-%d %H:%M:%S').tm_min//30)"
   ]
  },
  {
   "cell_type": "code",
   "execution_count": 6,
   "metadata": {},
   "outputs": [
    {
     "data": {
      "image/png": "[encoded data removed]",
      "text/plain": [
       "<Figure size 432x288 with 1 Axes>"
      ]
     },
     "metadata": {
      "needs_background": "light"
     },
     "output_type": "display_data"
    }
   ],
   "source": [
    "callin_time_frequency = callin_data['hour'].value_counts().sort_index()\n",
    "callin_time_frequency = callin_time_frequency.rename('all')\n",
    "callin_time_frequency.index = callin_time_frequency.index/2\n",
    "plot_frequency_data(callin_time_frequency)"
   ]
  },
  {
   "cell_type": "code",
   "execution_count": 7,
   "metadata": {},
   "outputs": [
    {
     "data": {
      "image/png": "[encoded data removed]",
      "text/plain": [
       "<Figure size 432x288 with 1 Axes>"
      ]
     },
     "metadata": {
      "needs_background": "light"
     },
     "output_type": "display_data"
    }
   ],
   "source": [
    "connection_time_frequency = callin_data.loc[callin_data['通话状态'] == '接通']['hour'].value_counts().sort_index()\n",
    "connection_time_frequency = connection_time_frequency.rename('connection')\n",
    "connection_time_frequency.index = connection_time_frequency.index/2\n",
    "plot_frequency_data(connection_time_frequency)"
   ]
  },
  {
   "cell_type": "code",
   "execution_count": 8,
   "metadata": {},
   "outputs": [
    {
     "data": {
      "image/png": "[encoded data removed]",
      "text/plain": [
       "<Figure size 432x288 with 1 Axes>"
      ]
     },
     "metadata": {
      "needs_background": "light"
     },
     "output_type": "display_data"
    }
   ],
   "source": [
    "missing_time_frequency = callin_data.loc[callin_data['通话状态'] == '未接通']['hour'].value_counts().sort_index()\n",
    "missing_time_frequency = missing_time_frequency.rename('missing')\n",
    "missing_time_frequency.index = missing_time_frequency.index/2\n",
    "plot_frequency_data(missing_time_frequency)"
   ]
  },
  {
   "cell_type": "code",
   "execution_count": 9,
   "metadata": {},
   "outputs": [],
   "source": [
    "time_frequency = pd.concat([callin_time_frequency, connection_time_frequency, missing_time_frequency], axis =1)\n",
    "time_frequency = time_frequency.fillna(0);\n",
    "time_frequency['time'] = time_frequency.index\n",
    "time_frequency['time'] = time_frequency['time'].apply(lambda x: '%d:%02d-%d:%02d' % (x//1, x%1*60, (x+0.5)//1, (x+0.5)%1*60))\n",
    "time_frequency = time_frequency[['time', 'all', 'connection', 'missing']]"
   ]
  },
  {
   "cell_type": "code",
   "execution_count": 10,
   "metadata": {},
   "outputs": [],
   "source": [
    "with pd.ExcelWriter(callin_data_path, engine='openpyxl', mode='a') as writer:  \n",
    "    time_frequency.to_excel(writer, sheet_name='时间段统计', index=False)"
   ]
  },
  {
   "cell_type": "markdown",
   "metadata": {},
   "source": [
    "## 接通状态统计"
   ]
  },
  {
   "cell_type": "code",
   "execution_count": 11,
   "metadata": {},
   "outputs": [],
   "source": [
    "all_people = callin_data['姓名'].unique()\n",
    "connection = []\n",
    "missing = []\n",
    "for p in all_people:\n",
    "    con = (callin_data.loc[callin_data['姓名']== p]['通话状态']=='接通').sum()\n",
    "    mis = (callin_data.loc[callin_data['姓名']== p]['通话状态']=='未接通').sum()\n",
    "    connection.append(con)\n",
    "    missing.append(mis)\n",
    "people_series = pd.Series(data = all_people, name = '姓名')\n",
    "connection_series = pd.Series(data = connection, name = '接通')\n",
    "missing_series = pd.Series(data = missing, name = '未接通')\n",
    "personal_calls = pd.concat([people_series, connection_series, missing_series], axis=1)\n",
    "personal_calls['电话量'] = personal_calls['接通']+personal_calls['未接通']\n",
    "personal_calls['接通率'] = personal_calls['接通']/personal_calls['电话量']"
   ]
  },
  {
   "cell_type": "code",
   "execution_count": 12,
   "metadata": {},
   "outputs": [],
   "source": [
    "with pd.ExcelWriter(callin_data_path, engine='openpyxl', mode='a') as writer:  \n",
    "    personal_calls.to_excel(writer, sheet_name='个人接通量', index=False)"
   ]
  },
  {
   "cell_type": "markdown",
   "metadata": {},
   "source": [
    "## 满意度统计"
   ]
  },
  {
   "cell_type": "code",
   "execution_count": 13,
   "metadata": {},
   "outputs": [
    {
     "data": {
      "text/plain": [
       "array(['非常满意', nan, '满意', '不满意'], dtype=object)"
      ]
     },
     "execution_count": 13,
     "metadata": {},
     "output_type": "execute_result"
    }
   ],
   "source": [
    "callin_data['满意度'].unique()"
   ]
  },
  {
   "cell_type": "code",
   "execution_count": 14,
   "metadata": {},
   "outputs": [],
   "source": [
    "all_people = callin_data['姓名'].unique()\n",
    "score_a = []\n",
    "score_b = []\n",
    "score_c = []\n",
    "for p in all_people:\n",
    "    a = (callin_data.loc[callin_data['姓名']== p]['满意度']=='非常满意').sum()\n",
    "    b = (callin_data.loc[callin_data['姓名']== p]['满意度']=='满意').sum()\n",
    "    c = (callin_data.loc[callin_data['姓名']== p]['满意度']=='不满意').sum()\n",
    "    score_a.append(a)\n",
    "    score_b.append(b)\n",
    "    score_c.append(c)\n",
    "people_series = pd.Series(data = all_people, name = '姓名')\n",
    "a_series = pd.Series(data = score_a, name = '非常满意')\n",
    "b_series = pd.Series(data = score_b, name = '满意')\n",
    "c_series = pd.Series(data = score_c, name = '不满意')\n",
    "personal_score = pd.concat([people_series, a_series, b_series, c_series], axis=1)\n",
    "personal_score['总评价数'] = personal_score['非常满意']+personal_score['满意']+personal_score['不满意']\n",
    "personal_score['非常满意率'] = personal_score['非常满意']/personal_score['总评价数']"
   ]
  },
  {
   "cell_type": "code",
   "execution_count": 15,
   "metadata": {},
   "outputs": [],
   "source": [
    "with pd.ExcelWriter(callin_data_path, engine='openpyxl', mode='a') as writer:  \n",
    "    personal_score.to_excel(writer, sheet_name='个人满意度', index=False)"
   ]
  },
  {
   "cell_type": "code",
   "execution_count": null,
   "metadata": {},
   "outputs": [],
   "source": []
  }
 ],
 "metadata": {
  "kernelspec": {
   "display_name": "Python 3",
   "language": "python",
   "name": "python3"
  },
  "language_info": {
   "codemirror_mode": {
    "name": "ipython",
    "version": 3
   },
   "file_extension": ".py",
   "mimetype": "text/x-python",
   "name": "python",
   "nbconvert_exporter": "python",
   "pygments_lexer": "ipython3",
   "version": "3.8.5"
  }
 },
 "nbformat": 4,
 "nbformat_minor": 4
}
