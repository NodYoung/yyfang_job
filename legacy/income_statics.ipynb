{
 "cells": [
  {
   "cell_type": "markdown",
   "metadata": {},
   "source": [
    "# 介绍\n",
    "本应用主要用于统计客服的转化收益。\n",
    "\n",
    "统计准则是以客服支持后10天以内的计入客服转化收益。"
   ]
  },
  {
   "cell_type": "markdown",
   "metadata": {},
   "source": [
    "# 开始\n",
    "## 文件输入输出\n",
    "共三个输入文件。分别是某段时间的：\n",
    "- 工单报表.xlsx\n",
    "- 学费报表.xlsx\n",
    "- 会话记录报表.csv\n",
    "\n",
    "x个输出文件：\n",
    "\n",
    "\n",
    "\n",
    "默认均放置在'data'目录下"
   ]
  },
  {
   "cell_type": "code",
   "execution_count": 1,
   "metadata": {},
   "outputs": [],
   "source": [
    "input_workorder_path = r'D:\\yyfang\\201206_income_statics\\data\\工单报表.xlsx'\n",
    "input_session_records_path = r'D:\\yyfang\\201206_income_statics\\data\\会话记录报表.xlsx'\n",
    "input_tuition_fee_path = r'‪D:\\yyfang\\201206_income_statics\\data\\学费报表.xlsx'\n",
    "input_workorder_path = input_workorder_path.strip(\"‪u202a\")\n",
    "input_session_records_path = input_session_records_path.strip(\"‪u202a\")\n",
    "input_tuition_fee_path = input_tuition_fee_path.strip(\"‪u202a\")"
   ]
  },
  {
   "cell_type": "markdown",
   "metadata": {},
   "source": [
    "## 导入相关库"
   ]
  },
  {
   "cell_type": "code",
   "execution_count": 2,
   "metadata": {},
   "outputs": [
    {
     "ename": "ModuleNotFoundError",
     "evalue": "No module named 'matplotlib'",
     "output_type": "error",
     "traceback": [
      "\u001b[1;31m---------------------------------------------------------------------------\u001b[0m",
      "\u001b[1;31mModuleNotFoundError\u001b[0m                       Traceback (most recent call last)",
      "\u001b[1;32m<ipython-input-2-7442102d1838>\u001b[0m in \u001b[0;36m<module>\u001b[1;34m\u001b[0m\n\u001b[0;32m      2\u001b[0m \u001b[1;32mimport\u001b[0m \u001b[0mpandas\u001b[0m \u001b[1;32mas\u001b[0m \u001b[0mpd\u001b[0m\u001b[1;33m\u001b[0m\u001b[1;33m\u001b[0m\u001b[0m\n\u001b[0;32m      3\u001b[0m \u001b[1;32mimport\u001b[0m \u001b[0mtime\u001b[0m\u001b[1;33m\u001b[0m\u001b[1;33m\u001b[0m\u001b[0m\n\u001b[1;32m----> 4\u001b[1;33m \u001b[1;32mfrom\u001b[0m \u001b[0mmatplotlib\u001b[0m \u001b[1;32mimport\u001b[0m \u001b[0mpyplot\u001b[0m \u001b[1;32mas\u001b[0m \u001b[0mplt\u001b[0m\u001b[1;33m\u001b[0m\u001b[1;33m\u001b[0m\u001b[0m\n\u001b[0m\u001b[0;32m      5\u001b[0m \u001b[0mget_ipython\u001b[0m\u001b[1;33m(\u001b[0m\u001b[1;33m)\u001b[0m\u001b[1;33m.\u001b[0m\u001b[0mrun_line_magic\u001b[0m\u001b[1;33m(\u001b[0m\u001b[1;34m'matplotlib'\u001b[0m\u001b[1;33m,\u001b[0m \u001b[1;34m'inline'\u001b[0m\u001b[1;33m)\u001b[0m\u001b[1;33m\u001b[0m\u001b[1;33m\u001b[0m\u001b[0m\n\u001b[0;32m      6\u001b[0m \u001b[1;32mfrom\u001b[0m \u001b[0mpylab\u001b[0m \u001b[1;32mimport\u001b[0m \u001b[1;33m*\u001b[0m\u001b[1;33m\u001b[0m\u001b[1;33m\u001b[0m\u001b[0m\n",
      "\u001b[1;31mModuleNotFoundError\u001b[0m: No module named 'matplotlib'"
     ]
    }
   ],
   "source": [
    "import numpy as np\n",
    "import pandas as pd\n",
    "import time\n",
    "from matplotlib import pyplot as plt\n",
    "%matplotlib inline\n",
    "from pylab import *\n",
    "mpl.rcParams['font.sans-serif'] = ['SimHei']"
   ]
  },
  {
   "cell_type": "markdown",
   "metadata": {},
   "source": [
    "第一步：把'会话记录报表'中有电话的筛出来，并存入*has_phone_number_data*页中"
   ]
  },
  {
   "cell_type": "code",
   "execution_count": null,
   "metadata": {},
   "outputs": [],
   "source": [
    "session_records_data = pd.read_excel(input_session_records_path);\n",
    "# session_records_data.head()"
   ]
  },
  {
   "cell_type": "code",
   "execution_count": null,
   "metadata": {},
   "outputs": [],
   "source": [
    "has_phone_number_data = session_records_data.loc[session_records_data['电话'].notnull()].copy()\n",
    "has_phone_number_data['电话'] = has_phone_number_data['电话'].apply(lambda x: '%s' % (str(int(x))))\n",
    "has_phone_number_data = has_phone_number_data[['会话ID', '最后接待客服', '会话结束时间', '电话']]"
   ]
  },
  {
   "cell_type": "code",
   "execution_count": null,
   "metadata": {},
   "outputs": [],
   "source": [
    "with pd.ExcelWriter(input_session_records_path, engine='openpyxl', mode='a') as writer:\n",
    "    has_phone_number_data.to_excel(writer, sheet_name='有电话号')"
   ]
  },
  {
   "cell_type": "markdown",
   "metadata": {},
   "source": [
    "第二步：把'会话记录报表'有效数据合并到'工单报表'的*merge*页"
   ]
  },
  {
   "cell_type": "code",
   "execution_count": null,
   "metadata": {},
   "outputs": [],
   "source": [
    "workorder_data = pd.read_excel(input_workorder_path);"
   ]
  },
  {
   "cell_type": "code",
   "execution_count": null,
   "metadata": {},
   "outputs": [],
   "source": [
    "valid_session_records_data = has_phone_number_data.rename(columns={'会话ID': '工单号', '最后接待客服': '创建人', '会话结束时间':'工单生成时间', '电话':'客户电话'})\n",
    "# invalid_session_records_data.head()\n",
    "workorder_data_copy = workorder_data.copy()\n",
    "workorder_data_copy['客户电话'] = workorder_data_copy['客户电话'].apply(lambda x: '%s' % (str(int(x))))\n",
    "merge_data = pd.concat([workorder_data_copy, valid_session_records_data], axis = 0)"
   ]
  },
  {
   "cell_type": "code",
   "execution_count": null,
   "metadata": {},
   "outputs": [],
   "source": [
    "with pd.ExcelWriter(input_workorder_path, engine='openpyxl', mode='a') as writer:\n",
    "    merge_data.to_excel(writer, sheet_name='1合并会话记录', index=False)"
   ]
  },
  {
   "cell_type": "markdown",
   "metadata": {},
   "source": [
    "第三步：把'学费报表'中金额大于0的数据抽取出来，按金额降序，存入'工单报表'的*profitable_tuition_fee*页"
   ]
  },
  {
   "cell_type": "code",
   "execution_count": 3,
   "metadata": {},
   "outputs": [
    {
     "name": "stderr",
     "output_type": "stream",
     "text": [
      "D:\\Users\\liyanan\\miniconda3\\lib\\site-packages\\openpyxl\\styles\\stylesheet.py:214: UserWarning: Workbook contains no default style, apply openpyxl's default\n",
      "  warn(\"Workbook contains no default style, apply openpyxl's default\")\n"
     ]
    }
   ],
   "source": [
    "tuition_fee_data = pd.read_excel(input_tuition_fee_path)\n",
    "# tuition_fee_data.head()"
   ]
  },
  {
   "cell_type": "code",
   "execution_count": 6,
   "metadata": {},
   "outputs": [
    {
     "data": {
      "text/html": [
       "<div>\n",
       "<style scoped>\n",
       "    .dataframe tbody tr th:only-of-type {\n",
       "        vertical-align: middle;\n",
       "    }\n",
       "\n",
       "    .dataframe tbody tr th {\n",
       "        vertical-align: top;\n",
       "    }\n",
       "\n",
       "    .dataframe thead th {\n",
       "        text-align: right;\n",
       "    }\n",
       "</style>\n",
       "<table border=\"1\" class=\"dataframe\">\n",
       "  <thead>\n",
       "    <tr style=\"text-align: right;\">\n",
       "      <th></th>\n",
       "      <th>订单/退款单编号</th>\n",
       "    </tr>\n",
       "  </thead>\n",
       "  <tbody>\n",
       "  </tbody>\n",
       "</table>\n",
       "</div>"
      ],
      "text/plain": [
       "Empty DataFrame\n",
       "Columns: [订单/退款单编号]\n",
       "Index: []"
      ]
     },
     "execution_count": 6,
     "metadata": {},
     "output_type": "execute_result"
    }
   ],
   "source": [
    "tuition_fee_data.head()"
   ]
  },
  {
   "cell_type": "code",
   "execution_count": null,
   "metadata": {},
   "outputs": [],
   "source": []
  },
  {
   "cell_type": "code",
   "execution_count": null,
   "metadata": {},
   "outputs": [],
   "source": []
  },
  {
   "cell_type": "code",
   "execution_count": null,
   "metadata": {},
   "outputs": [],
   "source": []
  },
  {
   "cell_type": "code",
   "execution_count": null,
   "metadata": {},
   "outputs": [],
   "source": [
    "profitable_tuition_fee_data = tuition_fee_data.loc[tuition_fee_data['收款/退款金额']>0].copy()\n",
    "profitable_tuition_fee_data = profitable_tuition_fee_data[['手机号', '收款/退款金额', '收款/退款日期']]\n",
    "profitable_tuition_fee_data = profitable_tuition_fee_data.sort_values(by=['收款/退款金额'], ascending=False)"
   ]
  },
  {
   "cell_type": "code",
   "execution_count": null,
   "metadata": {},
   "outputs": [],
   "source": [
    "with pd.ExcelWriter(input_workorder_path, engine='openpyxl', mode='a') as writer:\n",
    "    profitable_tuition_fee_data.to_excel(writer, sheet_name='2学费大于零', index=False)"
   ]
  },
  {
   "cell_type": "markdown",
   "metadata": {},
   "source": [
    "第四步：把profitable_tuition_fee数据和merge数据通过手机号进行合并，并存入merge_money页"
   ]
  },
  {
   "cell_type": "code",
   "execution_count": null,
   "metadata": {},
   "outputs": [],
   "source": [
    "valid_tuition_fee_data = profitable_tuition_fee_data.rename(columns={'手机号': '客户电话'})\n",
    "valid_tuition_fee_data['客户电话'] = valid_tuition_fee_data['客户电话'].apply(lambda x: '%s' % (str(x)))\n",
    "valid_tuition_fee_data = valid_tuition_fee_data.drop_duplicates('客户电话')\n",
    "s = valid_tuition_fee_data['客户电话'].str.split('/').apply(pd.Series, 1).stack()\n",
    "s.index = s.index.droplevel(-1) # to line up with df's index\n",
    "s.name = '客户电话'\n",
    "del valid_tuition_fee_data['客户电话']\n",
    "valid_tuition_fee_data = valid_tuition_fee_data.join(s)"
   ]
  },
  {
   "cell_type": "code",
   "execution_count": null,
   "metadata": {},
   "outputs": [],
   "source": [
    "merge_data['工单生成时间'] = pd.to_datetime(merge_data['工单生成时间'],format= '%Y-%m-%d %H:%M:%S' )   # 更改时间为统一格式\n",
    "merge_data = merge_data.sort_values(by=['工单生成时间'], ascending=True)  # 同一个电话多次打入，去重，算最先接的那个人的\n",
    "merge_data = merge_data.drop_duplicates('客户电话')\n",
    "merge_money_data = pd.merge(left = merge_data, right = valid_tuition_fee_data, how = 'left', on = ['客户电话'])"
   ]
  },
  {
   "cell_type": "code",
   "execution_count": null,
   "metadata": {},
   "outputs": [],
   "source": [
    "with pd.ExcelWriter(input_workorder_path, engine='openpyxl', mode='a') as writer:\n",
    "    merge_money_data.to_excel(writer, sheet_name='3合并学费', index=False)"
   ]
  },
  {
   "cell_type": "markdown",
   "metadata": {},
   "source": [
    "第五步：把merge_money数据中符合时间差的数据抽离出来，存入valid_income页"
   ]
  },
  {
   "cell_type": "code",
   "execution_count": null,
   "metadata": {},
   "outputs": [],
   "source": [
    "valid_income_data = merge_money_data.loc[merge_money_data['收款/退款日期'].notnull()].copy()\n",
    "valid_income_data['时间差'] = valid_income_data['收款/退款日期'] - valid_income_data['工单生成时间']\n",
    "valid_income_data = valid_income_data.loc[(valid_income_data['时间差'] >= pd.Timedelta(0,'D')) &  (valid_income_data['时间差'] <= pd.Timedelta(10,'D'))].copy()\n",
    "valid_income_data['时间差'] = valid_income_data['时间差'].astype(str)"
   ]
  },
  {
   "cell_type": "code",
   "execution_count": null,
   "metadata": {},
   "outputs": [],
   "source": [
    "with pd.ExcelWriter(input_workorder_path, engine='openpyxl', mode='a') as writer:\n",
    "    valid_income_data.to_excel(writer, sheet_name='4小于十天', index=False)"
   ]
  },
  {
   "cell_type": "markdown",
   "metadata": {},
   "source": [
    "第六步：统计每个人的金额，存入personal_income页"
   ]
  },
  {
   "cell_type": "code",
   "execution_count": null,
   "metadata": {},
   "outputs": [],
   "source": [
    "valid_income_data = valid_income_data.sort_values(by=['工单生成时间'], ascending=True)\n",
    "valid_income_data = valid_income_data.drop_duplicates('客户电话')"
   ]
  },
  {
   "cell_type": "code",
   "execution_count": null,
   "metadata": {},
   "outputs": [],
   "source": [
    "all_people = valid_income_data['创建人'].unique()\n",
    "all_money = []\n",
    "for p in all_people:\n",
    "    m = valid_income_data.loc[valid_income_data['创建人']== p]['收款/退款金额'].sum()\n",
    "    all_money.append(m)\n",
    "people = pd.Series(data = all_people, name = '创建人')\n",
    "money = pd.Series(data = all_money, name = '金额')\n",
    "personal_money = pd.concat([people, money], axis=1)\n",
    "personal_money = personal_money.sort_values(by=['金额'], ascending=False)"
   ]
  },
  {
   "cell_type": "code",
   "execution_count": null,
   "metadata": {},
   "outputs": [],
   "source": [
    "with pd.ExcelWriter(input_workorder_path, engine='openpyxl', mode='a') as writer:\n",
    "    personal_money.to_excel(writer, sheet_name='5个人统计', index=False)"
   ]
  },
  {
   "cell_type": "code",
   "execution_count": null,
   "metadata": {},
   "outputs": [],
   "source": []
  },
  {
   "cell_type": "code",
   "execution_count": null,
   "metadata": {},
   "outputs": [],
   "source": []
  },
  {
   "cell_type": "code",
   "execution_count": null,
   "metadata": {},
   "outputs": [],
   "source": [
    "valid_income_data['创建人'].unique()"
   ]
  },
  {
   "cell_type": "code",
   "execution_count": null,
   "metadata": {},
   "outputs": [],
   "source": [
    "merge_money_data.loc[merge_money_data['创建人']== '李曦然']"
   ]
  },
  {
   "cell_type": "code",
   "execution_count": null,
   "metadata": {},
   "outputs": [],
   "source": [
    "merge_money_data"
   ]
  },
  {
   "cell_type": "code",
   "execution_count": null,
   "metadata": {},
   "outputs": [],
   "source": []
  }
 ],
 "metadata": {
  "kernelspec": {
   "display_name": "Python 3",
   "language": "python",
   "name": "python3"
  },
  "language_info": {
   "codemirror_mode": {
    "name": "ipython",
    "version": 3
   },
   "file_extension": ".py",
   "mimetype": "text/x-python",
   "name": "python",
   "nbconvert_exporter": "python",
   "pygments_lexer": "ipython3",
   "version": "3.8.5"
  }
 },
 "nbformat": 4,
 "nbformat_minor": 4
}
